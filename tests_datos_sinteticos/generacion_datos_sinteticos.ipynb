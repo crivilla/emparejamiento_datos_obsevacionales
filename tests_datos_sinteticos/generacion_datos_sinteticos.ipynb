{
  "nbformat": 4,
  "nbformat_minor": 0,
  "metadata": {
    "colab": {
      "provenance": [],
      "mount_file_id": "1tWlWeFLP2LYn-u8v_tNnPtIA40SU90zT",
      "authorship_tag": "ABX9TyPCSsBaY9hzAC0mWtGQw9Sr",
      "include_colab_link": true
    },
    "kernelspec": {
      "name": "python3",
      "display_name": "Python 3"
    },
    "language_info": {
      "name": "python"
    }
  },
  "cells": [
    {
      "cell_type": "markdown",
      "metadata": {
        "id": "view-in-github",
        "colab_type": "text"
      },
      "source": [
        "<a href=\"https://colab.research.google.com/github/crivilla/emparejamiento_datos_obsevacionales/blob/main/generacion_datos_sinteticos.ipynb\" target=\"_parent\"><img src=\"https://colab.research.google.com/assets/colab-badge.svg\" alt=\"Open In Colab\"/></a>"
      ]
    },
    {
      "cell_type": "markdown",
      "source": [
        "**GENERACIÓN DE DATOS SINTÉTICOS (Synthetic data generation)** \n",
        "\n",
        "Se desarrolla el proceso de generación de un dataset sintético a partir de distribuciones conocidas. \n",
        "\n",
        "Conlleva un estudio previo sobre las prevalencias de las enfermedades específicas en la población que se quiere representar."
      ],
      "metadata": {
        "id": "FLZCk4k-KYue"
      }
    },
    {
      "cell_type": "code",
      "source": [
        "#Importación de librerías útiles\n",
        "\n",
        "import numpy as np\n",
        "import pandas as pd\n",
        "from matplotlib import pyplot as plt"
      ],
      "metadata": {
        "id": "nc4rrSrTO2wG"
      },
      "execution_count": 1,
      "outputs": []
    },
    {
      "cell_type": "markdown",
      "source": [
        "**Generación de las distribuciones**"
      ],
      "metadata": {
        "id": "78WtE7pap4_s"
      }
    },
    {
      "cell_type": "code",
      "source": [
        "#Generación de una distribución aleatoria - Ejemplo para la variable EDAD\n",
        "\n",
        "edad_dist= np.random.randint(low=50, high=80, size=1400, dtype=int)"
      ],
      "metadata": {
        "id": "A15c4QZDR9Ws"
      },
      "execution_count": 3,
      "outputs": []
    },
    {
      "cell_type": "code",
      "source": [
        "#Generación de distribuciones normales (o gaussianas) - Variables presión arterial sistólica (PAS) y diastólica (PAD)\n",
        "\n",
        "pas_normal_dist = np.random.normal(loc=137, scale=14, size=1400) ## Parámetros de la función: np.random.normal(mean, std dev, size)\n",
        "pad_normal_dist = np.random.normal(loc=80, scale=9, size=1400) \n",
        "# framing_normal_dist = np.random.normal(loc=80, scale=9, size=1400) #La distribución de la variable PUNTAJE DE RCV FRAMINGHAM se presupone normal, pero ante la duda, no se incluye"
      ],
      "metadata": {
        "id": "k_zjfgW0hkyX"
      },
      "execution_count": 4,
      "outputs": []
    },
    {
      "cell_type": "code",
      "source": [
        "#Generación de distribuciones binomiales\n",
        "\n",
        "sexo_binomial_dist = np.random.binomial(1,0.6,1400) # Parámetros de la función: np.random.binomial(max,prob,size)\n",
        "ic_binomial_dist = np.random.binomial(1,0.03,1400) \n",
        "acv_binomial_dist = np.random.binomial(1,0.05,1400) \n",
        "sca_binomial_dist = np.random.binomial(1,0.05,1400) \n",
        "iam_k75_binomial_dist = np.random.binomial(1,0.05,1400) \n",
        "# revasc_binomial_dist = np.random.binomial(1,0.6,1400) #De la variable REVASCULARIZACIÓN no se conoce la prevalencia sobre la población de estudio, no se incluye\n",
        "dm_binomial_dist = np.random.binomial(1,0.17,1400) \n",
        "ir_binomial_dist = np.random.binomial(1,0.27,1400) \n"
      ],
      "metadata": {
        "id": "i1ZCZ0XpMeba"
      },
      "execution_count": 5,
      "outputs": []
    },
    {
      "cell_type": "code",
      "source": [
        "#Generación de distribuciones gamma y exponencial (no aplican para ninguna de las variables de interés de este estudio, se añaden a modo informativo)\n",
        "\n",
        "# gamma_dist = np.random.gamma(shape=3, scale=1, size=1000)\n",
        "# exp_dist = np.random.exponential(scale=4, size=1000)"
      ],
      "metadata": {
        "id": "bXcvFKVPQlg2"
      },
      "execution_count": 6,
      "outputs": []
    },
    {
      "cell_type": "markdown",
      "source": [
        "**Visualización de las distribuciones resultantes**"
      ],
      "metadata": {
        "id": "aKXnxBe8qH2u"
      }
    },
    {
      "cell_type": "code",
      "source": [
        "# Visualización de la distribución correspondiente a la variable EDAD\n",
        "\n",
        "plt.hist(edad_dist)"
      ],
      "metadata": {
        "colab": {
          "base_uri": "https://localhost:8080/",
          "height": 482
        },
        "id": "Eue0Dslsbphv",
        "outputId": "69c8ac8f-b708-4861-de84-365bacd222c0"
      },
      "execution_count": 7,
      "outputs": [
        {
          "output_type": "execute_result",
          "data": {
            "text/plain": [
              "(array([137., 154., 151., 128., 158., 125., 138., 123., 144., 142.]),\n",
              " array([50. , 52.9, 55.8, 58.7, 61.6, 64.5, 67.4, 70.3, 73.2, 76.1, 79. ]),\n",
              " <BarContainer object of 10 artists>)"
            ]
          },
          "metadata": {},
          "execution_count": 7
        },
        {
          "output_type": "display_data",
          "data": {
            "text/plain": [
              "<Figure size 640x480 with 1 Axes>"
            ],
            "image/png": "[encoded data removed]"
          },
          "metadata": {}
        }
      ]
    },
    {
      "cell_type": "code",
      "source": [
        "# Visualización de múltiples distribuciones mediante histogramas\n",
        "\n",
        "fig, ((ax1,ax2,ax3),(ax4,ax5,ax6),(ax7,ax8,ax9)) = plt.subplots(nrows=3, ncols=3)\n",
        "\n",
        "ax1.hist(pas_normal_dist)\n",
        "ax1.set_title('PAS')\n",
        "ax2.hist(pad_normal_dist)\n",
        "ax2.set_title('PAD')\n",
        "\n",
        "ax3.hist(sexo_binomial_dist)\n",
        "ax3.set_title('Sexo femenino')\n",
        "ax4.hist(sexo_binomial_dist)\n",
        "ax4.set_title('IC')\n",
        "ax5.hist(sexo_binomial_dist)\n",
        "ax5.set_title('ACV')\n",
        "ax6.hist(sexo_binomial_dist)\n",
        "ax6.set_title('SCA')\n",
        "ax7.hist(sexo_binomial_dist)\n",
        "ax7.set_title('IAM')\n",
        "ax8.hist(sexo_binomial_dist)\n",
        "ax8.set_title('DM')\n",
        "ax9.hist(sexo_binomial_dist)\n",
        "ax9.set_title('IR')\n",
        "\n",
        "fig.tight_layout()\n",
        "plt.show()\n",
        "\n"
      ],
      "metadata": {
        "colab": {
          "base_uri": "https://localhost:8080/",
          "height": 487
        },
        "id": "RYSF2cidQgGp",
        "outputId": "f2b4206a-99ca-436a-caa5-ed2c4ef47899"
      },
      "execution_count": 9,
      "outputs": [
        {
          "output_type": "display_data",
          "data": {
            "text/plain": [
              "<Figure size 640x480 with 9 Axes>"
            ],
            "image/png": "[encoded data removed]"
          },
          "metadata": {}
        }
      ]
    },
    {
      "cell_type": "code",
      "source": [
        "#Histogramas ampliados - Exploración más detallada de las distribuciones\n",
        "fig, (ax1, ax2, ax3) = plt.subplots(1,3)\n",
        "\n",
        "ax1.hist(pas_normal_dist)\n",
        "ax1.set_title('PAS')\n",
        "ax2.hist(pad_normal_dist)\n",
        "ax2.set_title('PAD')\n",
        "ax3.hist(sexo_binomial_dist)\n",
        "ax3.set_title('Sexo femenino')\n",
        "#ax4.hist(sexo_binomial_dist) # Variamos el número de gráficos a mostrar\n",
        "#ax4.set_title('IC')\n",
        "\n",
        "fig.tight_layout()\n"
      ],
      "metadata": {
        "colab": {
          "base_uri": "https://localhost:8080/",
          "height": 487
        },
        "id": "DdadWmTNKgOh",
        "outputId": "ae33dad6-0b62-4bc3-e20c-9c39abdb7c02"
      },
      "execution_count": 8,
      "outputs": [
        {
          "output_type": "display_data",
          "data": {
            "text/plain": [
              "<Figure size 640x480 with 3 Axes>"
            ],
            "image/png": "[encoded data removed]"
          },
          "metadata": {}
        }
      ]
    },
    {
      "cell_type": "markdown",
      "source": [
        "**Generación de los conjuntos de datos**\n",
        "\n",
        "Las secciones anteriores son a modo explicativo. \n",
        "\n",
        "En las siguientes secciones de código se generan las distribuciones, se asignan al nombre de la variable (o columna) correspondiente y se incluyen en la función correspondiente para formar el conjunto de datos."
      ],
      "metadata": {
        "id": "coUyL6nOsri-"
      }
    },
    {
      "cell_type": "code",
      "source": [
        "#Importación de la librería necesaria\n",
        "from pandas.core.arrays import integer\n",
        "\n",
        "# GRUPO INTERVENCIÓN (n=1400)\n",
        "\n",
        "edad = np.random.randint(low=50, high=80, size=1400, dtype=int)\n",
        "sexo = np.random.binomial(1,0.6,1400)\n",
        "ic = np.random.binomial(1,0.03,1400)\n",
        "acv =  np.random.binomial(1,0.05,1400)\n",
        "sca = np.random.binomial(1,0.05,1400)\n",
        "iam_k75= np.random.binomial(1,0.05,1400)\n",
        "dm = np.random.binomial(1,0.17,1400)\n",
        "ir = np.random.binomial(1,0.27,1400)\n",
        "pas= np.round(np.random.normal(loc=125, scale=14, size=1400),2) \n",
        "pad = np.round(np.random.normal(loc=70, scale=9, size=1400),2) #np.round() #Redondea un array al número de decimales especificado\n",
        "interv = np.full(shape=1400, fill_value= 1,dtype=np.int8) #Asigna el valor 1 en la variable INTERVENCIÓN para todos los suejtos de este conjunto\n",
        "\n",
        "sujetosSint_interv_ndarray=np.column_stack((edad, sexo, ic, acv, sca, iam_k75, dm, ir, pas, pad, interv))"
      ],
      "metadata": {
        "id": "x-WRjk_BAgtk"
      },
      "execution_count": 10,
      "outputs": []
    },
    {
      "cell_type": "code",
      "source": [
        "sujetosSint_interv_df = pd.DataFrame(sujetosSint_interv_ndarray, columns = ['edad','sexo','ic', 'acv','sca','iam_k75','dm','ir','pas', 'pad','interv'])"
      ],
      "metadata": {
        "id": "v-Lu_Xm4A7KM"
      },
      "execution_count": 11,
      "outputs": []
    },
    {
      "cell_type": "code",
      "source": [
        "sujetosSint_interv_df.head()"
      ],
      "metadata": {
        "colab": {
          "base_uri": "https://localhost:8080/",
          "height": 206
        },
        "id": "J7emC7z-BNjX",
        "outputId": "71216e67-0b4d-4172-aed8-df1919a17575"
      },
      "execution_count": 12,
      "outputs": [
        {
          "output_type": "execute_result",
          "data": {
            "text/plain": [
              "   edad  sexo   ic  acv  sca  iam_k75   dm   ir     pas    pad  interv\n",
              "0  67.0   1.0  0.0  0.0  0.0      0.0  0.0  0.0  147.10  63.61     1.0\n",
              "1  53.0   0.0  0.0  0.0  0.0      0.0  0.0  1.0  132.76  66.40     1.0\n",
              "2  50.0   1.0  0.0  0.0  0.0      0.0  0.0  0.0  123.78  69.33     1.0\n",
              "3  56.0   0.0  0.0  0.0  0.0      0.0  0.0  0.0  158.09  76.96     1.0\n",
              "4  79.0   1.0  0.0  0.0  0.0      0.0  0.0  0.0  137.38  64.45     1.0"
            ],
            "text/html": [
              "\n",
              "  <div id=\"df-fc5cde6b-f0c5-4ce0-9e70-91993c249414\">\n",
              "    <div class=\"colab-df-container\">\n",
              "      <div>\n",
              "<style scoped>\n",
              "    .dataframe tbody tr th:only-of-type {\n",
              "        vertical-align: middle;\n",
              "    }\n",
              "\n",
              "    .dataframe tbody tr th {\n",
              "        vertical-align: top;\n",
              "    }\n",
              "\n",
              "    .dataframe thead th {\n",
              "        text-align: right;\n",
              "    }\n",
              "</style>\n",
              "<table border=\"1\" class=\"dataframe\">\n",
              "  <thead>\n",
              "    <tr style=\"text-align: right;\">\n",
              "      <th></th>\n",
              "      <th>edad</th>\n",
              "      <th>sexo</th>\n",
              "      <th>ic</th>\n",
              "      <th>acv</th>\n",
              "      <th>sca</th>\n",
              "      <th>iam_k75</th>\n",
              "      <th>dm</th>\n",
              "      <th>ir</th>\n",
              "      <th>pas</th>\n",
              "      <th>pad</th>\n",
              "      <th>interv</th>\n",
              "    </tr>\n",
              "  </thead>\n",
              "  <tbody>\n",
              "    <tr>\n",
              "      <th>0</th>\n",
              "      <td>67.0</td>\n",
              "      <td>1.0</td>\n",
              "      <td>0.0</td>\n",
              "      <td>0.0</td>\n",
              "      <td>0.0</td>\n",
              "      <td>0.0</td>\n",
              "      <td>0.0</td>\n",
              "      <td>0.0</td>\n",
              "      <td>147.10</td>\n",
              "      <td>63.61</td>\n",
              "      <td>1.0</td>\n",
              "    </tr>\n",
              "    <tr>\n",
              "      <th>1</th>\n",
              "      <td>53.0</td>\n",
              "      <td>0.0</td>\n",
              "      <td>0.0</td>\n",
              "      <td>0.0</td>\n",
              "      <td>0.0</td>\n",
              "      <td>0.0</td>\n",
              "      <td>0.0</td>\n",
              "      <td>1.0</td>\n",
              "      <td>132.76</td>\n",
              "      <td>66.40</td>\n",
              "      <td>1.0</td>\n",
              "    </tr>\n",
              "    <tr>\n",
              "      <th>2</th>\n",
              "      <td>50.0</td>\n",
              "      <td>1.0</td>\n",
              "      <td>0.0</td>\n",
              "      <td>0.0</td>\n",
              "      <td>0.0</td>\n",
              "      <td>0.0</td>\n",
              "      <td>0.0</td>\n",
              "      <td>0.0</td>\n",
              "      <td>123.78</td>\n",
              "      <td>69.33</td>\n",
              "      <td>1.0</td>\n",
              "    </tr>\n",
              "    <tr>\n",
              "      <th>3</th>\n",
              "      <td>56.0</td>\n",
              "      <td>0.0</td>\n",
              "      <td>0.0</td>\n",
              "      <td>0.0</td>\n",
              "      <td>0.0</td>\n",
              "      <td>0.0</td>\n",
              "      <td>0.0</td>\n",
              "      <td>0.0</td>\n",
              "      <td>158.09</td>\n",
              "      <td>76.96</td>\n",
              "      <td>1.0</td>\n",
              "    </tr>\n",
              "    <tr>\n",
              "      <th>4</th>\n",
              "      <td>79.0</td>\n",
              "      <td>1.0</td>\n",
              "      <td>0.0</td>\n",
              "      <td>0.0</td>\n",
              "      <td>0.0</td>\n",
              "      <td>0.0</td>\n",
              "      <td>0.0</td>\n",
              "      <td>0.0</td>\n",
              "      <td>137.38</td>\n",
              "      <td>64.45</td>\n",
              "      <td>1.0</td>\n",
              "    </tr>\n",
              "  </tbody>\n",
              "</table>\n",
              "</div>\n",
              "      <button class=\"colab-df-convert\" onclick=\"convertToInteractive('df-fc5cde6b-f0c5-4ce0-9e70-91993c249414')\"\n",
              "              title=\"Convert this dataframe to an interactive table.\"\n",
              "              style=\"display:none;\">\n",
              "        \n",
              "  <svg xmlns=\"http://www.w3.org/2000/svg\" height=\"24px\"viewBox=\"0 0 24 24\"\n",
              "       width=\"24px\">\n",
              "    <path d=\"M0 0h24v24H0V0z\" fill=\"none\"/>\n",
              "    <path d=\"M18.56 5.44l.94 2.06.94-2.06 2.06-.94-2.06-.94-.94-2.06-.94 2.06-2.06.94zm-11 1L8.5 8.5l.94-2.06 2.06-.94-2.06-.94L8.5 2.5l-.94 2.06-2.06.94zm10 10l.94 2.06.94-2.06 2.06-.94-2.06-.94-.94-2.06-.94 2.06-2.06.94z\"/><path d=\"M17.41 7.96l-1.37-1.37c-.4-.4-.92-.59-1.43-.59-.52 0-1.04.2-1.43.59L10.3 9.45l-7.72 7.72c-.78.78-.78 2.05 0 2.83L4 21.41c.39.39.9.59 1.41.59.51 0 1.02-.2 1.41-.59l7.78-7.78 2.81-2.81c.8-.78.8-2.07 0-2.86zM5.41 20L4 18.59l7.72-7.72 1.47 1.35L5.41 20z\"/>\n",
              "  </svg>\n",
              "      </button>\n",
              "      \n",
              "  <style>\n",
              "    .colab-df-container {\n",
              "      display:flex;\n",
              "      flex-wrap:wrap;\n",
              "      gap: 12px;\n",
              "    }\n",
              "\n",
              "    .colab-df-convert {\n",
              "      background-color: #E8F0FE;\n",
              "      border: none;\n",
              "      border-radius: 50%;\n",
              "      cursor: pointer;\n",
              "      display: none;\n",
              "      fill: #1967D2;\n",
              "      height: 32px;\n",
              "      padding: 0 0 0 0;\n",
              "      width: 32px;\n",
              "    }\n",
              "\n",
              "    .colab-df-convert:hover {\n",
              "      background-color: #E2EBFA;\n",
              "      box-shadow: 0px 1px 2px rgba(60, 64, 67, 0.3), 0px 1px 3px 1px rgba(60, 64, 67, 0.15);\n",
              "      fill: #174EA6;\n",
              "    }\n",
              "\n",
              "    [theme=dark] .colab-df-convert {\n",
              "      background-color: #3B4455;\n",
              "      fill: #D2E3FC;\n",
              "    }\n",
              "\n",
              "    [theme=dark] .colab-df-convert:hover {\n",
              "      background-color: #434B5C;\n",
              "      box-shadow: 0px 1px 3px 1px rgba(0, 0, 0, 0.15);\n",
              "      filter: drop-shadow(0px 1px 2px rgba(0, 0, 0, 0.3));\n",
              "      fill: #FFFFFF;\n",
              "    }\n",
              "  </style>\n",
              "\n",
              "      <script>\n",
              "        const buttonEl =\n",
              "          document.querySelector('#df-fc5cde6b-f0c5-4ce0-9e70-91993c249414 button.colab-df-convert');\n",
              "        buttonEl.style.display =\n",
              "          google.colab.kernel.accessAllowed ? 'block' : 'none';\n",
              "\n",
              "        async function convertToInteractive(key) {\n",
              "          const element = document.querySelector('#df-fc5cde6b-f0c5-4ce0-9e70-91993c249414');\n",
              "          const dataTable =\n",
              "            await google.colab.kernel.invokeFunction('convertToInteractive',\n",
              "                                                     [key], {});\n",
              "          if (!dataTable) return;\n",
              "\n",
              "          const docLinkHtml = 'Like what you see? Visit the ' +\n",
              "            '<a target=\"_blank\" href=https://colab.research.google.com/notebooks/data_table.ipynb>data table notebook</a>'\n",
              "            + ' to learn more about interactive tables.';\n",
              "          element.innerHTML = '';\n",
              "          dataTable['output_type'] = 'display_data';\n",
              "          await google.colab.output.renderOutput(dataTable, element);\n",
              "          const docLink = document.createElement('div');\n",
              "          docLink.innerHTML = docLinkHtml;\n",
              "          element.appendChild(docLink);\n",
              "        }\n",
              "      </script>\n",
              "    </div>\n",
              "  </div>\n",
              "  "
            ]
          },
          "metadata": {},
          "execution_count": 12
        }
      ]
    },
    {
      "cell_type": "markdown",
      "source": [
        "Exportación del dataset:"
      ],
      "metadata": {
        "id": "A5Ofp_ucwiZE"
      }
    },
    {
      "cell_type": "code",
      "source": [
        "#Importación de librería necesaria\n",
        "from google.colab import files"
      ],
      "metadata": {
        "id": "UFlXPW4frJiF"
      },
      "execution_count": 13,
      "outputs": []
    },
    {
      "cell_type": "code",
      "source": [
        "sujetosSint_interv_df.to_excel('sujetosSint_interv.xlsx')\n",
        "files.download('sujetosSint_interv.xlsx')"
      ],
      "metadata": {
        "colab": {
          "base_uri": "https://localhost:8080/",
          "height": 17
        },
        "id": "PimFW3oSCwbz",
        "outputId": "94eee573-1393-4baf-fa58-9a5bcb2e4aa7"
      },
      "execution_count": 14,
      "outputs": [
        {
          "output_type": "display_data",
          "data": {
            "text/plain": [
              "<IPython.core.display.Javascript object>"
            ],
            "application/javascript": [
              "\n",
              "    async function download(id, filename, size) {\n",
              "      if (!google.colab.kernel.accessAllowed) {\n",
              "        return;\n",
              "      }\n",
              "      const div = document.createElement('div');\n",
              "      const label = document.createElement('label');\n",
              "      label.textContent = `Downloading \"${filename}\": `;\n",
              "      div.appendChild(label);\n",
              "      const progress = document.createElement('progress');\n",
              "      progress.max = size;\n",
              "      div.appendChild(progress);\n",
              "      document.body.appendChild(div);\n",
              "\n",
              "      const buffers = [];\n",
              "      let downloaded = 0;\n",
              "\n",
              "      const channel = await google.colab.kernel.comms.open(id);\n",
              "      // Send a message to notify the kernel that we're ready.\n",
              "      channel.send({})\n",
              "\n",
              "      for await (const message of channel.messages) {\n",
              "        // Send a message to notify the kernel that we're ready.\n",
              "        channel.send({})\n",
              "        if (message.buffers) {\n",
              "          for (const buffer of message.buffers) {\n",
              "            buffers.push(buffer);\n",
              "            downloaded += buffer.byteLength;\n",
              "            progress.value = downloaded;\n",
              "          }\n",
              "        }\n",
              "      }\n",
              "      const blob = new Blob(buffers, {type: 'application/binary'});\n",
              "      const a = document.createElement('a');\n",
              "      a.href = window.URL.createObjectURL(blob);\n",
              "      a.download = filename;\n",
              "      div.appendChild(a);\n",
              "      a.click();\n",
              "      div.remove();\n",
              "    }\n",
              "  "
            ]
          },
          "metadata": {}
        },
        {
          "output_type": "display_data",
          "data": {
            "text/plain": [
              "<IPython.core.display.Javascript object>"
            ],
            "application/javascript": [
              "download(\"download_3fa8e6a6-1d9d-40c8-bb5d-c4c531357928\", \"sujetosSint_interv.xlsx\", 70594)"
            ]
          },
          "metadata": {}
        }
      ]
    },
    {
      "cell_type": "code",
      "source": [
        "# GRUPO CONTROL (n=700.000)\n",
        "\n",
        "edad = np.random.randint(low=50, high=80, size=700000, dtype=int)\n",
        "sexo = np.random.binomial(1,0.6,700000)\n",
        "ic = np.random.binomial(1,0.03,700000)\n",
        "acv =  np.random.binomial(1,0.05,700000)\n",
        "sca = np.random.binomial(1,0.05,700000)\n",
        "iam_k75= np.random.binomial(1,0.05,700000)\n",
        "dm= np.random.binomial(1,0.17,700000)\n",
        "ir = np.random.binomial(1,0.27,700000)\n",
        "pas= np.round(np.random.normal(loc=137, scale=14, size=700000),2) \n",
        "pad = np.round(np.random.normal(loc=80, scale=9, size=700000),2) \n",
        "interv = np.full(700000, 0)\n",
        "\n",
        "sujetosSint_ctrl_ndarray=np.column_stack((edad,sexo,ic, acv,sca,iam_k75,dm,ir,pas,pad,interv))"
      ],
      "metadata": {
        "id": "6xh_KxyBko85"
      },
      "execution_count": 15,
      "outputs": []
    },
    {
      "cell_type": "code",
      "source": [
        "sujetosSint_ctrl_df = pd.DataFrame(sujetosSint_ctrl_ndarray, columns = ['edad','sexo','ic', 'acv','sca','iam_k75','dm','ir','pas', 'pad','interv'])"
      ],
      "metadata": {
        "id": "8QmL2K0-mKaE"
      },
      "execution_count": 16,
      "outputs": []
    },
    {
      "cell_type": "code",
      "source": [
        "sujetosSint_ctrl_df.head()"
      ],
      "metadata": {
        "colab": {
          "base_uri": "https://localhost:8080/",
          "height": 206
        },
        "id": "C0TRHigMl6B8",
        "outputId": "dbbb9149-9eb9-4170-cdc3-dee9b04c3adb"
      },
      "execution_count": 17,
      "outputs": [
        {
          "output_type": "execute_result",
          "data": {
            "text/plain": [
              "   edad  sexo   ic  acv  sca  iam_k75   dm   ir     pas    pad  interv\n",
              "0  55.0   0.0  0.0  0.0  0.0      0.0  1.0  0.0  124.05  77.54     0.0\n",
              "1  71.0   0.0  0.0  0.0  0.0      0.0  0.0  1.0  148.22  76.98     0.0\n",
              "2  73.0   1.0  0.0  0.0  0.0      0.0  0.0  0.0  108.97  91.59     0.0\n",
              "3  66.0   1.0  0.0  0.0  0.0      0.0  0.0  0.0  138.41  81.86     0.0\n",
              "4  63.0   0.0  0.0  0.0  0.0      0.0  0.0  0.0  160.96  89.34     0.0"
            ],
            "text/html": [
              "\n",
              "  <div id=\"df-197cef3f-d9bf-4f32-ae2d-c5095a7ad9de\">\n",
              "    <div class=\"colab-df-container\">\n",
              "      <div>\n",
              "<style scoped>\n",
              "    .dataframe tbody tr th:only-of-type {\n",
              "        vertical-align: middle;\n",
              "    }\n",
              "\n",
              "    .dataframe tbody tr th {\n",
              "        vertical-align: top;\n",
              "    }\n",
              "\n",
              "    .dataframe thead th {\n",
              "        text-align: right;\n",
              "    }\n",
              "</style>\n",
              "<table border=\"1\" class=\"dataframe\">\n",
              "  <thead>\n",
              "    <tr style=\"text-align: right;\">\n",
              "      <th></th>\n",
              "      <th>edad</th>\n",
              "      <th>sexo</th>\n",
              "      <th>ic</th>\n",
              "      <th>acv</th>\n",
              "      <th>sca</th>\n",
              "      <th>iam_k75</th>\n",
              "      <th>dm</th>\n",
              "      <th>ir</th>\n",
              "      <th>pas</th>\n",
              "      <th>pad</th>\n",
              "      <th>interv</th>\n",
              "    </tr>\n",
              "  </thead>\n",
              "  <tbody>\n",
              "    <tr>\n",
              "      <th>0</th>\n",
              "      <td>55.0</td>\n",
              "      <td>0.0</td>\n",
              "      <td>0.0</td>\n",
              "      <td>0.0</td>\n",
              "      <td>0.0</td>\n",
              "      <td>0.0</td>\n",
              "      <td>1.0</td>\n",
              "      <td>0.0</td>\n",
              "      <td>124.05</td>\n",
              "      <td>77.54</td>\n",
              "      <td>0.0</td>\n",
              "    </tr>\n",
              "    <tr>\n",
              "      <th>1</th>\n",
              "      <td>71.0</td>\n",
              "      <td>0.0</td>\n",
              "      <td>0.0</td>\n",
              "      <td>0.0</td>\n",
              "      <td>0.0</td>\n",
              "      <td>0.0</td>\n",
              "      <td>0.0</td>\n",
              "      <td>1.0</td>\n",
              "      <td>148.22</td>\n",
              "      <td>76.98</td>\n",
              "      <td>0.0</td>\n",
              "    </tr>\n",
              "    <tr>\n",
              "      <th>2</th>\n",
              "      <td>73.0</td>\n",
              "      <td>1.0</td>\n",
              "      <td>0.0</td>\n",
              "      <td>0.0</td>\n",
              "      <td>0.0</td>\n",
              "      <td>0.0</td>\n",
              "      <td>0.0</td>\n",
              "      <td>0.0</td>\n",
              "      <td>108.97</td>\n",
              "      <td>91.59</td>\n",
              "      <td>0.0</td>\n",
              "    </tr>\n",
              "    <tr>\n",
              "      <th>3</th>\n",
              "      <td>66.0</td>\n",
              "      <td>1.0</td>\n",
              "      <td>0.0</td>\n",
              "      <td>0.0</td>\n",
              "      <td>0.0</td>\n",
              "      <td>0.0</td>\n",
              "      <td>0.0</td>\n",
              "      <td>0.0</td>\n",
              "      <td>138.41</td>\n",
              "      <td>81.86</td>\n",
              "      <td>0.0</td>\n",
              "    </tr>\n",
              "    <tr>\n",
              "      <th>4</th>\n",
              "      <td>63.0</td>\n",
              "      <td>0.0</td>\n",
              "      <td>0.0</td>\n",
              "      <td>0.0</td>\n",
              "      <td>0.0</td>\n",
              "      <td>0.0</td>\n",
              "      <td>0.0</td>\n",
              "      <td>0.0</td>\n",
              "      <td>160.96</td>\n",
              "      <td>89.34</td>\n",
              "      <td>0.0</td>\n",
              "    </tr>\n",
              "  </tbody>\n",
              "</table>\n",
              "</div>\n",
              "      <button class=\"colab-df-convert\" onclick=\"convertToInteractive('df-197cef3f-d9bf-4f32-ae2d-c5095a7ad9de')\"\n",
              "              title=\"Convert this dataframe to an interactive table.\"\n",
              "              style=\"display:none;\">\n",
              "        \n",
              "  <svg xmlns=\"http://www.w3.org/2000/svg\" height=\"24px\"viewBox=\"0 0 24 24\"\n",
              "       width=\"24px\">\n",
              "    <path d=\"M0 0h24v24H0V0z\" fill=\"none\"/>\n",
              "    <path d=\"M18.56 5.44l.94 2.06.94-2.06 2.06-.94-2.06-.94-.94-2.06-.94 2.06-2.06.94zm-11 1L8.5 8.5l.94-2.06 2.06-.94-2.06-.94L8.5 2.5l-.94 2.06-2.06.94zm10 10l.94 2.06.94-2.06 2.06-.94-2.06-.94-.94-2.06-.94 2.06-2.06.94z\"/><path d=\"M17.41 7.96l-1.37-1.37c-.4-.4-.92-.59-1.43-.59-.52 0-1.04.2-1.43.59L10.3 9.45l-7.72 7.72c-.78.78-.78 2.05 0 2.83L4 21.41c.39.39.9.59 1.41.59.51 0 1.02-.2 1.41-.59l7.78-7.78 2.81-2.81c.8-.78.8-2.07 0-2.86zM5.41 20L4 18.59l7.72-7.72 1.47 1.35L5.41 20z\"/>\n",
              "  </svg>\n",
              "      </button>\n",
              "      \n",
              "  <style>\n",
              "    .colab-df-container {\n",
              "      display:flex;\n",
              "      flex-wrap:wrap;\n",
              "      gap: 12px;\n",
              "    }\n",
              "\n",
              "    .colab-df-convert {\n",
              "      background-color: #E8F0FE;\n",
              "      border: none;\n",
              "      border-radius: 50%;\n",
              "      cursor: pointer;\n",
              "      display: none;\n",
              "      fill: #1967D2;\n",
              "      height: 32px;\n",
              "      padding: 0 0 0 0;\n",
              "      width: 32px;\n",
              "    }\n",
              "\n",
              "    .colab-df-convert:hover {\n",
              "      background-color: #E2EBFA;\n",
              "      box-shadow: 0px 1px 2px rgba(60, 64, 67, 0.3), 0px 1px 3px 1px rgba(60, 64, 67, 0.15);\n",
              "      fill: #174EA6;\n",
              "    }\n",
              "\n",
              "    [theme=dark] .colab-df-convert {\n",
              "      background-color: #3B4455;\n",
              "      fill: #D2E3FC;\n",
              "    }\n",
              "\n",
              "    [theme=dark] .colab-df-convert:hover {\n",
              "      background-color: #434B5C;\n",
              "      box-shadow: 0px 1px 3px 1px rgba(0, 0, 0, 0.15);\n",
              "      filter: drop-shadow(0px 1px 2px rgba(0, 0, 0, 0.3));\n",
              "      fill: #FFFFFF;\n",
              "    }\n",
              "  </style>\n",
              "\n",
              "      <script>\n",
              "        const buttonEl =\n",
              "          document.querySelector('#df-197cef3f-d9bf-4f32-ae2d-c5095a7ad9de button.colab-df-convert');\n",
              "        buttonEl.style.display =\n",
              "          google.colab.kernel.accessAllowed ? 'block' : 'none';\n",
              "\n",
              "        async function convertToInteractive(key) {\n",
              "          const element = document.querySelector('#df-197cef3f-d9bf-4f32-ae2d-c5095a7ad9de');\n",
              "          const dataTable =\n",
              "            await google.colab.kernel.invokeFunction('convertToInteractive',\n",
              "                                                     [key], {});\n",
              "          if (!dataTable) return;\n",
              "\n",
              "          const docLinkHtml = 'Like what you see? Visit the ' +\n",
              "            '<a target=\"_blank\" href=https://colab.research.google.com/notebooks/data_table.ipynb>data table notebook</a>'\n",
              "            + ' to learn more about interactive tables.';\n",
              "          element.innerHTML = '';\n",
              "          dataTable['output_type'] = 'display_data';\n",
              "          await google.colab.output.renderOutput(dataTable, element);\n",
              "          const docLink = document.createElement('div');\n",
              "          docLink.innerHTML = docLinkHtml;\n",
              "          element.appendChild(docLink);\n",
              "        }\n",
              "      </script>\n",
              "    </div>\n",
              "  </div>\n",
              "  "
            ]
          },
          "metadata": {},
          "execution_count": 17
        }
      ]
    },
    {
      "cell_type": "code",
      "source": [
        "sujetosSint_ctrl_df.to_excel('sujetosSint_ctrl_n700000.xlsx')\n",
        "files.download('sujetosSint_ctrl_n700000.xlsx')"
      ],
      "metadata": {
        "colab": {
          "base_uri": "https://localhost:8080/",
          "height": 17
        },
        "id": "OrurQ5QgnmLf",
        "outputId": "1bce92b1-be9d-41a0-eec2-1cbf5c952d1f"
      },
      "execution_count": 18,
      "outputs": [
        {
          "output_type": "display_data",
          "data": {
            "text/plain": [
              "<IPython.core.display.Javascript object>"
            ],
            "application/javascript": [
              "\n",
              "    async function download(id, filename, size) {\n",
              "      if (!google.colab.kernel.accessAllowed) {\n",
              "        return;\n",
              "      }\n",
              "      const div = document.createElement('div');\n",
              "      const label = document.createElement('label');\n",
              "      label.textContent = `Downloading \"${filename}\": `;\n",
              "      div.appendChild(label);\n",
              "      const progress = document.createElement('progress');\n",
              "      progress.max = size;\n",
              "      div.appendChild(progress);\n",
              "      document.body.appendChild(div);\n",
              "\n",
              "      const buffers = [];\n",
              "      let downloaded = 0;\n",
              "\n",
              "      const channel = await google.colab.kernel.comms.open(id);\n",
              "      // Send a message to notify the kernel that we're ready.\n",
              "      channel.send({})\n",
              "\n",
              "      for await (const message of channel.messages) {\n",
              "        // Send a message to notify the kernel that we're ready.\n",
              "        channel.send({})\n",
              "        if (message.buffers) {\n",
              "          for (const buffer of message.buffers) {\n",
              "            buffers.push(buffer);\n",
              "            downloaded += buffer.byteLength;\n",
              "            progress.value = downloaded;\n",
              "          }\n",
              "        }\n",
              "      }\n",
              "      const blob = new Blob(buffers, {type: 'application/binary'});\n",
              "      const a = document.createElement('a');\n",
              "      a.href = window.URL.createObjectURL(blob);\n",
              "      a.download = filename;\n",
              "      div.appendChild(a);\n",
              "      a.click();\n",
              "      div.remove();\n",
              "    }\n",
              "  "
            ]
          },
          "metadata": {}
        },
        {
          "output_type": "display_data",
          "data": {
            "text/plain": [
              "<IPython.core.display.Javascript object>"
            ],
            "application/javascript": [
              "download(\"download_95f31cc7-09f6-4da6-be48-088871580886\", \"sujetosSint_ctrl_n700000.xlsx\", 33413690)"
            ]
          },
          "metadata": {}
        }
      ]
    }
  ]
}
